{
 "cells": [
  {
   "cell_type": "markdown",
   "id": "986031a1",
   "metadata": {},
   "source": [
    "# WiDS Datathon 2021"
   ]
  },
  {
   "cell_type": "code",
   "execution_count": 219,
   "id": "40152802",
   "metadata": {},
   "outputs": [],
   "source": [
    "import os\n",
    "import pandas as pd\n",
    "import seaborn as sns\n",
    "import missingno as msno\n",
    "import matplotlib.pyplot as plt\n",
    "import numpy as np\n",
    "import scipy as sc\n",
    "from sklearn.decomposition import PCA\n",
    "from sklearn.feature_selection import SelectKBest, f_classif\n",
    "from sklearn.feature_selection import VarianceThreshold\n",
    "from sklearn.metrics import roc_curve, roc_auc_score\n",
    "from sklearn.ensemble import RandomForestClassifier\n",
    "from sklearn.model_selection import train_test_split, cross_val_score, GridSearchCV\n",
    "from sklearn.model_selection import StratifiedShuffleSplit\n",
    "from sklearn.ensemble import VotingClassifier, BaggingClassifier, AdaBoostClassifier, GradientBoostingClassifier\n",
    "import eli5\n",
    "from eli5.sklearn import PermutationImportance\n",
    "from sklearn.tree import DecisionTreeClassifier\n",
    "from xgboost import XGBClassifier\n",
    "from lightgbm import LGBMClassifier\n",
    "import warnings\n",
    "\n",
    "%matplotlib inline\n",
    "warnings.filterwarnings(\"ignore\")\n",
    "pd.set_option(\"display.max_rows\", None, \"display.max_columns\", None, \"display.max_colwidth\", None)"
   ]
  },
  {
   "cell_type": "markdown",
   "id": "6a0eb92d",
   "metadata": {},
   "source": [
    "* https://www.kaggle.com/c/widsdatathon2021/data?select=TrainingWiDS2021.csv\n",
    "* https://he.wikipedia.org/wiki/%D7%A1%D7%95%D7%9B%D7%A8%D7%AA\n",
    "* https://www.health.gov.il/PublicationsFiles/diabetes_registry_report_2019.pdf"
   ]
  },
  {
   "cell_type": "markdown",
   "id": "2e00708e",
   "metadata": {},
   "source": [
    "## Overview\n",
    "This year's challenge will focus on models to determine whether a patient admitted to an ICU has been diagnosed with a particular type of diabetes, Diabetes Mellitus. Using data from the first 24 hours of intensive care, individuals and teams will explore labeled training data for model development. Participants will then upload predictions for unlabeled data to Kaggle and these predictions will be used to determine the public leaderboard rankings, as well as the final leaderboard revealed at the close of the competition.\n",
    "\n",
    "Data analysis can be completed using your preferred tools. Tutorials, sample code, and other resources will be posted throughout the competition at widsconference.org/datathon-resources and on the Kaggle Discussion Forum.\n",
    "\n",
    "The WiDS Datathon 2021 dataset is similar to the WiDS Datathon 2020 dataset, but prior experience is not needed. This year's WiDS Datathon will also feature a Phase 2 hosted by the National Science Foundation Big Data Innovation Hubs, to encourage research papers and further collaboration. Special thanks to Kaggle for supporting the suite of WiDS Datathon cash awards this year, totaling $10,000 USD"
   ]
  },
  {
   "cell_type": "markdown",
   "id": "bc343169",
   "metadata": {},
   "source": [
    "## Evaluation\n",
    "Submissions for the leaderboard will be evaluated on the Area under the Receiver Operating Characteristic (ROC) curve between the predicted and the observed target (diabetes_mellitus_diagnosis).\n",
    "\n",
    "Learn more about AUC in this developer crash course, this video, or this Kaggle Learn Forum post.\n",
    "\n",
    "Submission Format\n",
    "For each encounter_id in the test dataset, you are asked to explore the columns of data (for example, patient laboratory results, demographics, and vital signs) and create a model that classifies whether the ICU patient has been diagnosed with Diabetes Mellitus.\n",
    "\n",
    "A diabetes_mellitus value of 1 corresponds to a positive diagnosis (i.e., the patient has been diagnosed to have Diabetes Mellitus) and a value of 0 corresponds to a negative diagnosis."
   ]
  },
  {
   "cell_type": "markdown",
   "id": "76647f3a",
   "metadata": {},
   "source": [
    "# EDA"
   ]
  },
  {
   "cell_type": "code",
   "execution_count": 66,
   "id": "c8d64774",
   "metadata": {},
   "outputs": [
    {
     "data": {
      "text/plain": [
       "'C:\\\\Users\\\\liran\\\\OneDrive\\\\שולחן העבודה\\\\classification&clustering\\\\csv_files'"
      ]
     },
     "execution_count": 66,
     "metadata": {},
     "output_type": "execute_result"
    }
   ],
   "source": [
    "# C:\\\\Users\\\\liran\\\\OneDrive\\\\שולחן העבודה\\\\classification&clustering\\\\csv_files\n",
    "os.chdir('user path')\n",
    "os.getcwd()"
   ]
  },
  {
   "cell_type": "code",
   "execution_count": 67,
   "id": "e226a5bf",
   "metadata": {},
   "outputs": [
    {
     "name": "stdout",
     "output_type": "stream",
     "text": [
      "train shape: (130157, 180), dic shape: (181, 6)\n"
     ]
    }
   ],
   "source": [
    "df_diabetes = pd.read_csv('TrainingWiDS2021.csv', index_col=0)\n",
    "df_diabetes.reset_index(drop=True, inplace=True)\n",
    "df_dic = pd.read_csv('DataDictionaryWiDS2021.csv')\n",
    "print(f'train shape: {df_diabetes.shape}, dic shape: {df_dic.shape}')"
   ]
  },
  {
   "cell_type": "markdown",
   "id": "708ab194",
   "metadata": {},
   "source": [
    "## cleaning the data"
   ]
  },
  {
   "cell_type": "code",
   "execution_count": 68,
   "id": "ade6dedc",
   "metadata": {},
   "outputs": [],
   "source": [
    "def data_cleaning():\n",
    "    df_diabetes['bmi'] = round(10000 * df_diabetes['weight'] / (df_diabetes['height'] ** 2), 8)\n",
    "    mask_lst= []\n",
    "    for i in range(len(df_diabetes)):\n",
    "        mask_lst.append(round(10000*df_diabetes.weight[i] / (df_diabetes.height[i]**2), \n",
    "                              str(df_diabetes.bmi[i])[::-1].find('.')) == df_diabetes.bmi[i])\n",
    "        \n",
    "    threshold = 0.2\n",
    "    col_to_be_drop = (df_diabetes.isnull().sum() / df_diabetes.shape[0] <= threshold) \\\n",
    "    [~(df_diabetes.isnull().sum() / df_diabetes.shape[0] <= threshold)].index\n",
    "    print(f'number of columns to drop: {len(col_to_be_drop)}')\n",
    "    df_diabetes.drop(columns=col_to_be_drop, inplace=True)\n",
    "    print(f'train shape: {df_diabetes.shape}')\n",
    "    \n",
    "        # look at\n",
    "    look_at_lst = ['d1_hco3_max', 'd1_hco3_max',  'd1_platelets_min', 'd1_platelets_max',  'd1_calcium_max',\n",
    "     'd1_calcium_min', 'd1_hemaglobin_max','d1_hemaglobin_min','d1_potassium_min', 'h1_diasbp_noninvasive_min','h1_diasbp_noninvasive_max','h1_sysbp_noninvasive_min',\n",
    "     'h1_sysbp_noninvasive_max','h1_spo2_max','h1_spo2_min', 'pre_icu_los_days']\n",
    "    fintuning_drop = ['bun_apache','creatinine_apache','sodium_apache', 'd1_wbc_max','d1_wbc_min','d1_hematocrit_max',\n",
    "     'd1_hematocrit_min','h1_mbp_noninvasive_min','h1_mbp_noninvasive_max','d1_creatinine_min',\n",
    "     'd1_creatinine_max','d1_sodium_min','d1_sodium_max','temp_apache','h1_mbp_min','h1_mbp_max',\n",
    "     'h1_resprate_max','h1_resprate_min','h1_diasbp_max','h1_diasbp_min','h1_sysbp_min','h1_sysbp_max','d1_temp_min',\n",
    "     'd1_temp_max','h1_heartrate_max','h1_heartrate_min','weight','d1_mbp_noninvasive_min','d1_mbp_noninvasive_max','gcs_motor_apache',\n",
    "     'gcs_eyes_apache','gcs_verbal_apache','height','d1_diasbp_noninvasive_min','d1_diasbp_noninvasive_max',\n",
    "     'd1_sysbp_noninvasive_min','d1_sysbp_noninvasive_max','apache_3j_diagnosis','resprate_apache','gcs_unable_apache',\n",
    "     'd1_resprate_min','d1_resprate_max','d1_spo2_min','d1_spo2_max','map_apache','d1_mbp_max','d1_mbp_min',\n",
    "     'heart_rate_apache','d1_diasbp_max','d1_diasbp_min','d1_sysbp_min','d1_sysbp_max','d1_heartrate_max','d1_heartrate_min',\n",
    "     'icu_admit_source','aids','cirrhosis','hepatic_failure','immunosuppression',\n",
    "     'leukemia','lymphoma','solid_tumor_with_metastasis','encounter_id','hospital_id','ventilated_apache','intubated_apache',\n",
    "     'arf_apache','apache_post_operative','readmission_status','icu_stay_type','icu_id','elective_surgery','glucose_apache','d1_hco3_min']\n",
    "    fintuning_drop = fintuning_drop + look_at_lst\n",
    "\n",
    "    #stay\n",
    "    stay_lst = ['d1_glucose_max','d1_glucose_min','age','bmi','apache_2_diagnosis', 'ethnicity', 'gender',\n",
    "     'icu_type', 'diabetes_mellitus', 'd1_bun_max',  'd1_potassium_max']\n",
    "    \n",
    "    print(f'number of columns to drop: {len(fintuning_drop)}')\n",
    "    df_diabetes.drop(columns=fintuning_drop, inplace=True)\n",
    "    print(f'train shape: {df_diabetes.shape}')\n",
    "    print(df_diabetes.shape)\n",
    "    df_diabetes.loc[df_diabetes.ethnicity.isnull(),'ethnicity'] = 'Other/Unknown'\n",
    "    df_diabetes.dropna(inplace=True)\n",
    "    print(df_diabetes.shape)\n",
    "    \n",
    "    glucos_min = df_diabetes[df_diabetes['d1_glucose_max'] < df_diabetes['d1_glucose_min']]['d1_glucose_min'].values[0]\n",
    "    glucose_index = df_diabetes[df_diabetes['d1_glucose_max'] < df_diabetes['d1_glucose_min']]['d1_glucose_min'].index\n",
    "    glucos_max = df_diabetes.loc[glucose_index, 'd1_glucose_max'].values[0]\n",
    "    df_diabetes.loc[glucose_index, 'd1_glucose_min'] = glucos_max\n",
    "    df_diabetes.loc[glucose_index, 'd1_glucose_max'] = glucos_min\n",
    "    \n",
    "    bun_min = df_diabetes[df_diabetes['d1_bun_max'] < df_diabetes['d1_bun_min']]['d1_bun_min'].values\n",
    "    bun_index = df_diabetes[df_diabetes['d1_bun_max'] < df_diabetes['d1_bun_min']]['d1_bun_min'].index\n",
    "    bun_max = df_diabetes.loc[bun_index, 'd1_bun_max'].values\n",
    "    df_diabetes.loc[bun_index, 'd1_bun_min'] = bun_max\n",
    "    df_diabetes.loc[bun_index, 'd1_bun_max'] = bun_min"
   ]
  },
  {
   "cell_type": "code",
   "execution_count": 69,
   "id": "b3246723",
   "metadata": {
    "scrolled": true
   },
   "outputs": [
    {
     "name": "stdout",
     "output_type": "stream",
     "text": [
      "number of columns to drop: 79\n",
      "train shape: (130157, 101)\n",
      "number of columns to drop: 90\n",
      "train shape: (130157, 12)\n",
      "(130157, 12)\n",
      "(106667, 12)\n"
     ]
    }
   ],
   "source": [
    "data_cleaning()"
   ]
  },
  {
   "cell_type": "code",
   "execution_count": 70,
   "id": "d975cf25",
   "metadata": {},
   "outputs": [
    {
     "data": {
      "text/plain": [
       "age                   0\n",
       "bmi                   0\n",
       "ethnicity             0\n",
       "gender                0\n",
       "icu_type              0\n",
       "apache_2_diagnosis    0\n",
       "d1_bun_max            0\n",
       "d1_bun_min            0\n",
       "d1_glucose_max        0\n",
       "d1_glucose_min        0\n",
       "d1_potassium_max      0\n",
       "diabetes_mellitus     0\n",
       "dtype: int64"
      ]
     },
     "execution_count": 70,
     "metadata": {},
     "output_type": "execute_result"
    }
   ],
   "source": [
    "df_diabetes.isnull().sum()"
   ]
  },
  {
   "cell_type": "markdown",
   "id": "0d2e71df",
   "metadata": {},
   "source": [
    "## imbalanced data"
   ]
  },
  {
   "cell_type": "code",
   "execution_count": 253,
   "id": "c3a95ba9",
   "metadata": {},
   "outputs": [
    {
     "data": {
      "image/png": "[encoded data removed]",
      "text/plain": [
       "<Figure size 432x288 with 1 Axes>"
      ]
     },
     "metadata": {},
     "output_type": "display_data"
    }
   ],
   "source": [
    "cmap = plt.get_cmap('GnBu')\n",
    "x = df_diabetes['diabetes_mellitus'].value_counts(normalize=True).sort_index(ascending = False)\n",
    "colors = list(cmap(np.linspace(0.45, 0.85, len(x))))\n",
    "labels = df_diabetes['diabetes_mellitus'].unique()\n",
    "fig, ax = plt.subplots()\n",
    "patches, texts, pcts = ax.pie(x, labels=labels,autopct='%.1f%%',colors=colors, wedgeprops={'linewidth': 3.0, 'edgecolor': 'white'})\n",
    "plt.setp(pcts, color='white',fontsize = 16)\n",
    "plt.setp(texts, fontsize = 16,color = 'darkgreen')\n",
    "plt.tight_layout()"
   ]
  },
  {
   "cell_type": "markdown",
   "id": "b14b3b50",
   "metadata": {},
   "source": [
    "## mapping categorial columns"
   ]
  },
  {
   "cell_type": "markdown",
   "id": "62396fe9",
   "metadata": {},
   "source": [
    "### APACHE"
   ]
  },
  {
   "cell_type": "code",
   "execution_count": 72,
   "id": "1181aa80",
   "metadata": {},
   "outputs": [
    {
     "data": {
      "text/plain": [
       "4.0    62647\n",
       "5.0    16589\n",
       "3.0    11204\n",
       "2.0     9320\n",
       "1.0     4139\n",
       "6.0     2768\n",
       "Name: apache_2_diagnosis, dtype: int64"
      ]
     },
     "execution_count": 72,
     "metadata": {},
     "output_type": "execute_result"
    }
   ],
   "source": [
    "g = df_diabetes.groupby(['apache_2_diagnosis']).agg(pct_diabetes=pd.NamedAgg(column=\"diabetes_mellitus\", aggfunc=lambda x: 100*(x.sum() / len(x))),\n",
    "                                         num_of_patients=pd.NamedAgg(column=\"diabetes_mellitus\", aggfunc=lambda x: len(x))).copy()\n",
    "g.sort_values(by='pct_diabetes', inplace=True)\n",
    "apache_code = g.index\n",
    "pct_diabetes = g.pct_diabetes.values.round(2)\n",
    "apache_dic = dict(zip(apache_code, pct_diabetes))\n",
    "df_diabetes['apache_2_diagnosis'] = df_diabetes['apache_2_diagnosis'].map(apache_dic)\n",
    "df_diabetes.loc[df_diabetes['apache_2_diagnosis']<8, 'apache_2_diagnosis'] = 1\n",
    "df_diabetes.loc[df_diabetes['apache_2_diagnosis']>=35, 'apache_2_diagnosis'] = 6\n",
    "apache_seg = [8,14,19,26,35]\n",
    "for i in range(len(apache_seg)-1):\n",
    "    df_diabetes.loc[(df_diabetes['apache_2_diagnosis']>=apache_seg[i])&(df_diabetes['apache_2_diagnosis']<apache_seg[i+1]), 'apache_2_diagnosis'] = i+2\n",
    "df_diabetes.apache_2_diagnosis.value_counts()"
   ]
  },
  {
   "cell_type": "markdown",
   "id": "9a86ca2c",
   "metadata": {},
   "source": [
    "### ethnicity & icu_type"
   ]
  },
  {
   "cell_type": "code",
   "execution_count": 73,
   "id": "cc1619b1",
   "metadata": {},
   "outputs": [],
   "source": [
    "def map_categorial(col_name):\n",
    "    g = df_diabetes.groupby([col_name]).agg(pct_diabetes=pd.NamedAgg(column=\"diabetes_mellitus\", aggfunc=lambda x: 100*(x.sum() / len(x))),\n",
    "                                             num_of_patients=pd.NamedAgg(column=\"diabetes_mellitus\", aggfunc=lambda x: len(x))).copy()\n",
    "    g.sort_values(by='pct_diabetes', inplace=True)\n",
    "    map_dic = dict(zip(g.index, list(range(1, len(g)+1))))\n",
    "    df_diabetes[col_name] = df_diabetes[col_name].map(map_dic)"
   ]
  },
  {
   "cell_type": "code",
   "execution_count": 74,
   "id": "88ce16fe",
   "metadata": {},
   "outputs": [],
   "source": [
    "map_categorial('ethnicity')\n",
    "map_categorial('icu_type')"
   ]
  },
  {
   "cell_type": "markdown",
   "id": "05699956",
   "metadata": {},
   "source": [
    "## outliers"
   ]
  },
  {
   "cell_type": "code",
   "execution_count": 75,
   "id": "8bf4116a",
   "metadata": {},
   "outputs": [],
   "source": [
    "# sns.pairplot(data=df_diabetes)"
   ]
  },
  {
   "cell_type": "code",
   "execution_count": 76,
   "id": "5068c894",
   "metadata": {},
   "outputs": [],
   "source": [
    "def data_cleaning_outliers(df_diabetes):\n",
    "    print(df_diabetes.shape)\n",
    "    # removing age = 0.0 \n",
    "    df_diabetes = df_diabetes[~(df_diabetes['age']==0)]\n",
    "    # claening with Z value\n",
    "    numeric_col = list(df_diabetes.select_dtypes(include=['float64', 'int64']).columns)\n",
    "    numeric_col.remove('apache_2_diagnosis')\n",
    "    numeric_col.remove('age')\n",
    "    numeric_col.remove('diabetes_mellitus')\n",
    "    df_diabetes = df_diabetes[(np.abs(sc.stats.zscore(df_diabetes[numeric_col])) < 3).all(axis=1)]\n",
    "\n",
    "    # another option of cleaning is with IQR value\n",
    "    # Q1 = df_diabetes[numeric_col_remove_from].quantile(0.25)\n",
    "    # Q3 = df_diabetes[numeric_col_remove_from].quantile(0.75)\n",
    "    # IQR = Q3 - Q1\n",
    "    # len(df_diabetes) - len(df_diabetes[((df_diabetes[numeric_col_remove_from] >= (Q1 - 1.5 * IQR)) & (df_diabetes[numeric_col_remove_from] <= (Q3 + 1.5 * IQR))).all(axis=1)])\n",
    "\n",
    "    print(df_diabetes.shape)\n",
    "    return df_diabetes.copy()"
   ]
  },
  {
   "cell_type": "code",
   "execution_count": 77,
   "id": "1fea1ff5",
   "metadata": {},
   "outputs": [
    {
     "name": "stdout",
     "output_type": "stream",
     "text": [
      "(106667, 12)\n",
      "(96408, 12)\n"
     ]
    }
   ],
   "source": [
    "df_diabetes = data_cleaning_outliers(df_diabetes)"
   ]
  },
  {
   "cell_type": "markdown",
   "id": "96f7b944",
   "metadata": {},
   "source": [
    "# feature selecting"
   ]
  },
  {
   "cell_type": "markdown",
   "id": "0f09e220",
   "metadata": {},
   "source": [
    "## PCA"
   ]
  },
  {
   "cell_type": "code",
   "execution_count": 78,
   "id": "3cd560ae",
   "metadata": {},
   "outputs": [],
   "source": [
    "# performing pca on min column\n",
    "def data_pca_trans():\n",
    "    pca_transformer = PCA(n_components=2)\n",
    "    X = df_diabetes[['d1_bun_min','d1_glucose_min']].copy()\n",
    "    diabetes_pca_transformer = pca_transformer.fit(X)\n",
    "    diabetes_pca = diabetes_pca_transformer.transform(X)\n",
    "    print(f'min columns pca variance: {diabetes_pca_transformer.explained_variance_ratio_.cumsum()}')\n",
    "    # according to the results (95% variance threshold) we decide not converting those columns\n",
    "    pca_transformer = PCA(n_components=3)\n",
    "    X = df_diabetes[['d1_bun_max','d1_glucose_max', 'd1_potassium_max']].copy()\n",
    "    diabetes_pca_transformer = pca_transformer.fit(X)\n",
    "    diabetes_pca = diabetes_pca_transformer.transform(X)\n",
    "    print(f'max columns pca variance: {diabetes_pca_transformer.explained_variance_ratio_.cumsum()}')\n",
    "    df_diabetes_pca = df_diabetes.copy()\n",
    "    df_diabetes_pca.drop(columns=['d1_bun_max','d1_glucose_max', 'd1_potassium_max'], axis=1, inplace=True)\n",
    "    df_diabetes_pca['d1_max_pca'] = diabetes_pca[:, 0]\n",
    "    return df_diabetes_pca.copy()\n",
    "    # according to the results (95% variance threshold) we decide to converting the three max column to one column"
   ]
  },
  {
   "cell_type": "code",
   "execution_count": 79,
   "id": "9fbdaa26",
   "metadata": {},
   "outputs": [
    {
     "name": "stdout",
     "output_type": "stream",
     "text": [
      "min columns pca variance: [0.83647954 1.        ]\n",
      "max columns pca variance: [0.95339978 0.99993621 1.        ]\n"
     ]
    }
   ],
   "source": [
    "df_diabetes_pca = data_pca_trans()"
   ]
  },
  {
   "cell_type": "markdown",
   "id": "b3338efb",
   "metadata": {},
   "source": [
    "## selectkbest"
   ]
  },
  {
   "cell_type": "code",
   "execution_count": 80,
   "id": "ffe974d1",
   "metadata": {},
   "outputs": [],
   "source": [
    "def data_kbest_trans():\n",
    "    col_select = ['d1_bun_max','d1_glucose_max', 'd1_potassium_max', 'd1_bun_min','d1_glucose_min']\n",
    "    df_diabetes_kbest = df_diabetes.copy()\n",
    "    df_diabetes_kbest.drop(columns=col_select, axis=1, inplace=True)\n",
    "    df_2_col = SelectKBest(f_classif, k=2).fit_transform(df_diabetes[col_select], df_diabetes['diabetes_mellitus'])\n",
    "    df_diabetes_kbest['d1_1_select'] = df_2_col[:,0]\n",
    "    df_diabetes_kbest['d1_2_select'] = df_2_col[:,1]\n",
    "    return df_diabetes_kbest"
   ]
  },
  {
   "cell_type": "code",
   "execution_count": 81,
   "id": "f7ec0a2d",
   "metadata": {},
   "outputs": [],
   "source": [
    "df_diabetes_kbest = data_kbest_trans()"
   ]
  },
  {
   "cell_type": "markdown",
   "id": "3d2cc164",
   "metadata": {},
   "source": [
    "## columns variance"
   ]
  },
  {
   "cell_type": "code",
   "execution_count": 84,
   "id": "5453a787",
   "metadata": {},
   "outputs": [
    {
     "name": "stdout",
     "output_type": "stream",
     "text": [
      "number of columns that not change: 0\n"
     ]
    },
    {
     "data": {
      "text/plain": [
       "gender    2\n",
       "dtype: int64"
      ]
     },
     "execution_count": 84,
     "metadata": {},
     "output_type": "execute_result"
    }
   ],
   "source": [
    "# checking variance of columns\n",
    "df_diabetes_numeric = df_diabetes.select_dtypes(include=[np.number])\n",
    "selector = VarianceThreshold(0)\n",
    "selector.fit(df_diabetes_numeric)\n",
    "print(f'number of columns that not change: {len(df_diabetes_numeric.columns) - sum(selector.get_support())}')\n",
    "df_diabetes_cat = df_diabetes.select_dtypes(exclude=[np.number])\n",
    "df_diabetes_cat.nunique()"
   ]
  },
  {
   "cell_type": "markdown",
   "id": "73737556",
   "metadata": {},
   "source": [
    "## get dummies"
   ]
  },
  {
   "cell_type": "code",
   "execution_count": 239,
   "id": "e13eabed",
   "metadata": {},
   "outputs": [],
   "source": [
    "df_model_pca = df_diabetes_pca.copy()\n",
    "df_model_pca = pd.get_dummies(df_model_pca)\n",
    "df_model_kbest = df_diabetes_kbest.copy()\n",
    "df_model_kbest = pd.get_dummies(df_model_kbest)"
   ]
  },
  {
   "cell_type": "markdown",
   "id": "4116c7b6",
   "metadata": {},
   "source": [
    "# Execution of models - PCA"
   ]
  },
  {
   "cell_type": "code",
   "execution_count": 256,
   "id": "3c32c03c",
   "metadata": {},
   "outputs": [],
   "source": [
    "X = df_model_pca.drop(columns=['diabetes_mellitus'],axis=1)\n",
    "y = df_model_pca['diabetes_mellitus']\n",
    "X_train, X_test, y_train, y_test = train_test_split(X, y, test_size=0.2, random_state=42, stratify=y, shuffle=True)\n",
    "k = 3\n",
    "sss = StratifiedShuffleSplit(n_splits=k, test_size=0.2, random_state=0)"
   ]
  },
  {
   "cell_type": "code",
   "execution_count": 257,
   "id": "43bef3fe",
   "metadata": {},
   "outputs": [],
   "source": [
    "def cross_val(clf, clf_model_name):\n",
    "    scores = cross_val_score(clf, X_train, y_train, cv=sss, scoring='roc_auc')\n",
    "    print(\"Scores \",clf_model_name,\": \" + (k * \"{:.3f} \").format(*scores))"
   ]
  },
  {
   "cell_type": "code",
   "execution_count": 258,
   "id": "e4e5f61c",
   "metadata": {},
   "outputs": [],
   "source": [
    "def plot_auc(clf, clf_model_name):\n",
    "    scores_auc = clf.predict_proba(X_test)[:,1]\n",
    "    fpr, tpr, thresholds = roc_curve(y_test, scores_auc, pos_label=1)\n",
    "    res = pd.DataFrame({'FPR': fpr, 'TPR': tpr, 'Threshold': thresholds})\n",
    "    auc_score = round(roc_auc_score(y_test==1, scores_auc), 3)\n",
    "    plt.plot(fpr, tpr, 'k--',linewidth=2)\n",
    "    plt.fill_between(fpr, tpr, color='lightskyblue')\n",
    "    plt.title(f'ROC of {clf_model_name}')\n",
    "    plt.text(0.5, 0.5, f'AUC {auc_score}', size=15)\n",
    "    plt.xlabel('FPR (False Positive Rate = 1-specificity)')\n",
    "    plt.ylabel('TPR (True Positive Rate = sensitivity)')\n",
    "    plt.xlim([0, 1])\n",
    "    plt.ylim([0, 1])"
   ]
  },
  {
   "cell_type": "markdown",
   "id": "74f30472",
   "metadata": {},
   "source": [
    "## Random Forest"
   ]
  },
  {
   "cell_type": "code",
   "execution_count": 155,
   "id": "bf571417",
   "metadata": {},
   "outputs": [
    {
     "name": "stdout",
     "output_type": "stream",
     "text": [
      "Best parameters: {'criterion': 'entropy', 'max_depth': 10, 'n_estimators': 50}\n"
     ]
    }
   ],
   "source": [
    "# gread search\n",
    "my_param_grid = {'n_estimators':[50, 100, 150], 'criterion':['gini', 'entropy'], 'max_depth':[10, 15, 20]}\n",
    "clf = RandomForestClassifier(random_state=1)\n",
    "clf_gs = GridSearchCV(clf, my_param_grid, cv=sss)\n",
    "clf_gs.fit(X_train, y_train)\n",
    "print(\"Best parameters:\", clf_gs.best_params_)"
   ]
  },
  {
   "cell_type": "code",
   "execution_count": 233,
   "id": "ee81682a",
   "metadata": {
    "scrolled": true
   },
   "outputs": [
    {
     "name": "stdout",
     "output_type": "stream",
     "text": [
      "Scores  RandomForest : 0.822 0.826 0.826 \n"
     ]
    },
    {
     "data": {
      "image/png": "[encoded data removed]",
      "text/plain": [
       "<Figure size 432x288 with 1 Axes>"
      ]
     },
     "metadata": {
      "needs_background": "light"
     },
     "output_type": "display_data"
    }
   ],
   "source": [
    "clf = RandomForestClassifier(criterion='entropy', max_depth=10, n_estimators=50)\n",
    "clf.fit(X_train, y_train)\n",
    "cross_val(clf, 'RandomForest')\n",
    "plot_auc(clf, 'RandomForest')"
   ]
  },
  {
   "cell_type": "markdown",
   "id": "6e5370fa",
   "metadata": {},
   "source": [
    "## Bagging of Random Forest"
   ]
  },
  {
   "cell_type": "code",
   "execution_count": 194,
   "id": "5dd10e27",
   "metadata": {},
   "outputs": [
    {
     "data": {
      "text/plain": [
       "BaggingClassifier(base_estimator=RandomForestClassifier(criterion='entropy',\n",
       "                                                        max_depth=10,\n",
       "                                                        n_estimators=50))"
      ]
     },
     "execution_count": 194,
     "metadata": {},
     "output_type": "execute_result"
    }
   ],
   "source": [
    "clf_bagging = BaggingClassifier(base_estimator=clf)\n",
    "clf_bagging.fit(X_train, y_train)"
   ]
  },
  {
   "cell_type": "code",
   "execution_count": 196,
   "id": "d51baed7",
   "metadata": {
    "scrolled": true
   },
   "outputs": [
    {
     "name": "stdout",
     "output_type": "stream",
     "text": [
      "Scores  BaggingRandomForest : 0.827 0.830 0.831 \n"
     ]
    },
    {
     "data": {
      "image/png": "[encoded data removed]",
      "text/plain": [
       "<Figure size 432x288 with 1 Axes>"
      ]
     },
     "metadata": {
      "needs_background": "light"
     },
     "output_type": "display_data"
    }
   ],
   "source": [
    "cross_val(clf_bagging, 'BaggingRandomForest')\n",
    "plot_auc(clf_bagging, 'BaggingRandomForest')"
   ]
  },
  {
   "cell_type": "markdown",
   "id": "8239b411",
   "metadata": {},
   "source": [
    "## Ada boost"
   ]
  },
  {
   "cell_type": "code",
   "execution_count": 201,
   "id": "adfbc1ba",
   "metadata": {},
   "outputs": [
    {
     "name": "stdout",
     "output_type": "stream",
     "text": [
      "Best parameters: {'learning_rate': 0.015, 'n_estimators': 250}\n"
     ]
    }
   ],
   "source": [
    "# gread search\n",
    "my_param_grid = {'n_estimators':[100, 150, 200, 250], 'learning_rate':[0.005, 0.01, 0.015]}\n",
    "clf_base = DecisionTreeClassifier(max_depth=3)\n",
    "clf_adaboost = AdaBoostClassifier(base_estimator=clf_base)\n",
    "clf_gs = GridSearchCV(clf_adaboost, my_param_grid, cv=sss)\n",
    "clf_gs.fit(X_train, y_train)\n",
    "print(\"Best parameters:\", clf_gs.best_params_)"
   ]
  },
  {
   "cell_type": "code",
   "execution_count": 202,
   "id": "cbaa89eb",
   "metadata": {},
   "outputs": [
    {
     "name": "stdout",
     "output_type": "stream",
     "text": [
      "Scores  Ada boost : 0.822 0.827 0.825 \n"
     ]
    },
    {
     "data": {
      "image/png": "[encoded data removed]",
      "text/plain": [
       "<Figure size 432x288 with 1 Axes>"
      ]
     },
     "metadata": {
      "needs_background": "light"
     },
     "output_type": "display_data"
    }
   ],
   "source": [
    "clf = AdaBoostClassifier(base_estimator=clf_base, learning_rate=0.015, n_estimators=250)\n",
    "clf.fit(X_train, y_train)\n",
    "cross_val(clf, 'Ada boost')\n",
    "plot_auc(clf, 'Ada boost')"
   ]
  },
  {
   "cell_type": "markdown",
   "id": "e4a05cac",
   "metadata": {},
   "source": [
    "## XGBoost"
   ]
  },
  {
   "cell_type": "code",
   "execution_count": 215,
   "id": "6893458d",
   "metadata": {},
   "outputs": [
    {
     "name": "stdout",
     "output_type": "stream",
     "text": [
      "Best parameters: {'eval_metric': 'auc', 'learning_rate': 0.01, 'max_depth': 10, 'n_estimators': 200}\n"
     ]
    }
   ],
   "source": [
    "# gread search\n",
    "my_param_grid = {'n_estimators':[100, 150, 200], 'learning_rate':[0.005, 0.01], 'max_depth':[10, 15], 'eval_metric':['auc']}\n",
    "clf = XGBClassifier()\n",
    "clf_gs = GridSearchCV(clf, my_param_grid, cv=sss)\n",
    "clf_gs.fit(X_train, y_train)\n",
    "print(\"Best parameters:\", clf_gs.best_params_)"
   ]
  },
  {
   "cell_type": "code",
   "execution_count": 217,
   "id": "f0c4704d",
   "metadata": {},
   "outputs": [
    {
     "name": "stdout",
     "output_type": "stream",
     "text": [
      "Scores  XGBClassifier : 0.820 0.825 0.826 \n"
     ]
    },
    {
     "data": {
      "image/png": "[encoded data removed]",
      "text/plain": [
       "<Figure size 432x288 with 1 Axes>"
      ]
     },
     "metadata": {
      "needs_background": "light"
     },
     "output_type": "display_data"
    }
   ],
   "source": [
    "clf = XGBClassifier(max_depth=10, learning_rate=0.01, n_estimators=200, eval_metric='auc')\n",
    "clf.fit(X_train, y_train)\n",
    "cross_val(clf, 'XGBClassifier')\n",
    "plot_auc(clf, 'XGBClassifier')"
   ]
  },
  {
   "cell_type": "markdown",
   "id": "db391a58",
   "metadata": {},
   "source": [
    "## LightGBM"
   ]
  },
  {
   "cell_type": "code",
   "execution_count": 234,
   "id": "39f001e4",
   "metadata": {},
   "outputs": [
    {
     "name": "stdout",
     "output_type": "stream",
     "text": [
      "Best parameters: {'learning_rate': 0.01, 'max_depth': 10, 'metric': 'auc', 'n_estimators': 200}\n"
     ]
    }
   ],
   "source": [
    "# gread search\n",
    "my_param_grid = {'n_estimators':[100, 150, 200], 'learning_rate':[0.005, 0.01], 'max_depth':[10, 15], 'metric':['auc']}\n",
    "clf = LGBMClassifier()\n",
    "clf_gs = GridSearchCV(clf, my_param_grid, cv=sss)\n",
    "clf_gs.fit(X_train, y_train)\n",
    "print(\"Best parameters:\", clf_gs.best_params_)"
   ]
  },
  {
   "cell_type": "code",
   "execution_count": 235,
   "id": "6dfd6dc5",
   "metadata": {},
   "outputs": [
    {
     "name": "stdout",
     "output_type": "stream",
     "text": [
      "Scores  LGBMClassifier : 0.825 0.829 0.828 \n"
     ]
    },
    {
     "data": {
      "image/png": "[encoded data removed]",
      "text/plain": [
       "<Figure size 432x288 with 1 Axes>"
      ]
     },
     "metadata": {
      "needs_background": "light"
     },
     "output_type": "display_data"
    }
   ],
   "source": [
    "clf = LGBMClassifier(max_depth=10, learning_rate=0.01, n_estimators=200, metric='auc')\n",
    "clf.fit(X_train, y_train)\n",
    "cross_val(clf, 'LGBMClassifier')\n",
    "plot_auc(clf, 'LGBMClassifier')"
   ]
  },
  {
   "cell_type": "markdown",
   "id": "559f6f35",
   "metadata": {},
   "source": [
    "## Voting"
   ]
  },
  {
   "cell_type": "code",
   "execution_count": 259,
   "id": "29725f2b",
   "metadata": {},
   "outputs": [
    {
     "data": {
      "text/plain": [
       "VotingClassifier(estimators=[('BC',\n",
       "                              BaggingClassifier(base_estimator=RandomForestClassifier(criterion='entropy',\n",
       "                                                                                      max_depth=10,\n",
       "                                                                                      n_estimators=50))),\n",
       "                             ('XGB',\n",
       "                              XGBClassifier(base_score=None, booster=None,\n",
       "                                            colsample_bylevel=None,\n",
       "                                            colsample_bynode=None,\n",
       "                                            colsample_bytree=None,\n",
       "                                            enable_categorical=False,\n",
       "                                            eval_metric='auc', gamma=None,\n",
       "                                            gpu_id=None, importance_type=None,\n",
       "                                            int...\n",
       "                                            min_child_weight=None, missing=nan,\n",
       "                                            monotone_constraints=None,\n",
       "                                            n_estimators=200, n_jobs=None,\n",
       "                                            num_parallel_tree=None,\n",
       "                                            predictor=None, random_state=None,\n",
       "                                            reg_alpha=None, reg_lambda=None,\n",
       "                                            scale_pos_weight=None,\n",
       "                                            subsample=None, tree_method=None,\n",
       "                                            validate_parameters=None,\n",
       "                                            verbosity=None)),\n",
       "                             ('LGBM',\n",
       "                              LGBMClassifier(learning_rate=0.01, max_depth=10,\n",
       "                                             metric='auc', n_estimators=200))],\n",
       "                 voting='soft')"
      ]
     },
     "execution_count": 259,
     "metadata": {},
     "output_type": "execute_result"
    }
   ],
   "source": [
    "clf1 = BaggingClassifier(base_estimator=RandomForestClassifier(criterion='entropy', max_depth=10, n_estimators=50))\n",
    "clf2 = XGBClassifier(max_depth=10, learning_rate=0.01, n_estimators=200, eval_metric='auc')\n",
    "clf3 = LGBMClassifier(max_depth=10, learning_rate=0.01, n_estimators=200, metric='auc')\n",
    "\n",
    "classifiers = [('BC', clf1), ('XGB', clf2), ('LGBM', clf3)]\n",
    "clf_voting = VotingClassifier(estimators=classifiers, voting='soft')\n",
    "clf_voting.fit(X_train, y_train)"
   ]
  },
  {
   "cell_type": "code",
   "execution_count": 260,
   "id": "dd1209d0",
   "metadata": {
    "scrolled": true
   },
   "outputs": [
    {
     "name": "stdout",
     "output_type": "stream",
     "text": [
      "Scores  Voting : 0.826 0.831 0.831 \n"
     ]
    },
    {
     "data": {
      "image/png": "[encoded data removed]",
      "text/plain": [
       "<Figure size 432x288 with 1 Axes>"
      ]
     },
     "metadata": {
      "needs_background": "light"
     },
     "output_type": "display_data"
    }
   ],
   "source": [
    "cross_val(clf_voting, 'Voting')\n",
    "plot_auc(clf_voting, 'Voting')"
   ]
  },
  {
   "cell_type": "markdown",
   "id": "3c8e25d0",
   "metadata": {},
   "source": [
    "# Execution of models - selectkbest"
   ]
  },
  {
   "cell_type": "code",
   "execution_count": 241,
   "id": "996a208e",
   "metadata": {},
   "outputs": [],
   "source": [
    "X = df_model_kbest.drop(columns=['diabetes_mellitus'],axis=1)\n",
    "y = df_model_kbest['diabetes_mellitus']\n",
    "X_train, X_test, y_train, y_test = train_test_split(X, y, test_size=0.2, random_state=42, stratify=y, shuffle=True)\n",
    "k = 3\n",
    "sss = StratifiedShuffleSplit(n_splits=k, test_size=0.2, random_state=0)"
   ]
  },
  {
   "cell_type": "markdown",
   "id": "3548a7a7",
   "metadata": {},
   "source": [
    "## Random Forest"
   ]
  },
  {
   "cell_type": "code",
   "execution_count": 242,
   "id": "46cefe4c",
   "metadata": {
    "scrolled": false
   },
   "outputs": [
    {
     "name": "stdout",
     "output_type": "stream",
     "text": [
      "Scores  RandomForest : 0.820 0.823 0.822 \n"
     ]
    },
    {
     "data": {
      "image/png": "[encoded data removed]",
      "text/plain": [
       "<Figure size 432x288 with 1 Axes>"
      ]
     },
     "metadata": {
      "needs_background": "light"
     },
     "output_type": "display_data"
    }
   ],
   "source": [
    "clf = RandomForestClassifier(criterion='entropy', max_depth=10, n_estimators=50)\n",
    "clf.fit(X_train, y_train)\n",
    "cross_val(clf, 'RandomForest')\n",
    "plot_auc(clf, 'RandomForest')"
   ]
  },
  {
   "cell_type": "markdown",
   "id": "d05d0503",
   "metadata": {},
   "source": [
    "## Bagging of Random Forest"
   ]
  },
  {
   "cell_type": "code",
   "execution_count": 243,
   "id": "752b5932",
   "metadata": {},
   "outputs": [
    {
     "data": {
      "text/plain": [
       "BaggingClassifier(base_estimator=RandomForestClassifier(criterion='entropy',\n",
       "                                                        max_depth=10,\n",
       "                                                        n_estimators=50))"
      ]
     },
     "execution_count": 243,
     "metadata": {},
     "output_type": "execute_result"
    }
   ],
   "source": [
    "clf_bagging = BaggingClassifier(base_estimator=clf)\n",
    "clf_bagging.fit(X_train, y_train)"
   ]
  },
  {
   "cell_type": "code",
   "execution_count": 244,
   "id": "8a09f132",
   "metadata": {
    "scrolled": false
   },
   "outputs": [
    {
     "name": "stdout",
     "output_type": "stream",
     "text": [
      "Scores  BaggingRandomForest : 0.821 0.825 0.824 \n"
     ]
    },
    {
     "data": {
      "image/png": "[encoded data removed]",
      "text/plain": [
       "<Figure size 432x288 with 1 Axes>"
      ]
     },
     "metadata": {
      "needs_background": "light"
     },
     "output_type": "display_data"
    }
   ],
   "source": [
    "cross_val(clf_bagging, 'BaggingRandomForest')\n",
    "plot_auc(clf_bagging, 'BaggingRandomForest')"
   ]
  },
  {
   "cell_type": "markdown",
   "id": "7c116771",
   "metadata": {},
   "source": [
    "## Ada boost"
   ]
  },
  {
   "cell_type": "code",
   "execution_count": 245,
   "id": "ae2e3b9a",
   "metadata": {},
   "outputs": [
    {
     "name": "stdout",
     "output_type": "stream",
     "text": [
      "Scores  Ada boost : 0.817 0.822 0.820 \n"
     ]
    },
    {
     "data": {
      "image/png": "[encoded data removed]",
      "text/plain": [
       "<Figure size 432x288 with 1 Axes>"
      ]
     },
     "metadata": {
      "needs_background": "light"
     },
     "output_type": "display_data"
    }
   ],
   "source": [
    "clf = AdaBoostClassifier(base_estimator=clf_base, learning_rate=0.015, n_estimators=250)\n",
    "clf.fit(X_train, y_train)\n",
    "cross_val(clf, 'Ada boost')\n",
    "plot_auc(clf, 'Ada boost')"
   ]
  },
  {
   "cell_type": "markdown",
   "id": "07400bfa",
   "metadata": {},
   "source": [
    "## XGBoost"
   ]
  },
  {
   "cell_type": "code",
   "execution_count": 246,
   "id": "1b991746",
   "metadata": {},
   "outputs": [
    {
     "name": "stdout",
     "output_type": "stream",
     "text": [
      "Scores  XGBClassifier : 0.815 0.818 0.818 \n"
     ]
    },
    {
     "data": {
      "image/png": "[encoded data removed]",
      "text/plain": [
       "<Figure size 432x288 with 1 Axes>"
      ]
     },
     "metadata": {
      "needs_background": "light"
     },
     "output_type": "display_data"
    }
   ],
   "source": [
    "clf = XGBClassifier(max_depth=10, learning_rate=0.01, n_estimators=200, eval_metric='auc')\n",
    "clf.fit(X_train, y_train)\n",
    "cross_val(clf, 'XGBClassifier')\n",
    "plot_auc(clf, 'XGBClassifier')"
   ]
  },
  {
   "cell_type": "markdown",
   "id": "630e4eeb",
   "metadata": {},
   "source": [
    "## LightGBM"
   ]
  },
  {
   "cell_type": "code",
   "execution_count": 247,
   "id": "728c1043",
   "metadata": {},
   "outputs": [
    {
     "name": "stdout",
     "output_type": "stream",
     "text": [
      "Scores  LGBMClassifier : 0.818 0.823 0.821 \n"
     ]
    },
    {
     "data": {
      "image/png": "[encoded data removed]",
      "text/plain": [
       "<Figure size 432x288 with 1 Axes>"
      ]
     },
     "metadata": {
      "needs_background": "light"
     },
     "output_type": "display_data"
    }
   ],
   "source": [
    "clf = LGBMClassifier(max_depth=10, learning_rate=0.01, n_estimators=200, metric='auc')\n",
    "clf.fit(X_train, y_train)\n",
    "cross_val(clf, 'LGBMClassifier')\n",
    "plot_auc(clf, 'LGBMClassifier')"
   ]
  },
  {
   "cell_type": "markdown",
   "id": "80089bb5",
   "metadata": {},
   "source": [
    "## Voting"
   ]
  },
  {
   "cell_type": "code",
   "execution_count": 248,
   "id": "fd7f4d17",
   "metadata": {},
   "outputs": [
    {
     "data": {
      "text/plain": [
       "VotingClassifier(estimators=[('BC',\n",
       "                              BaggingClassifier(base_estimator=RandomForestClassifier(criterion='entropy',\n",
       "                                                                                      max_depth=10,\n",
       "                                                                                      n_estimators=50))),\n",
       "                             ('RF',\n",
       "                              RandomForestClassifier(criterion='entropy',\n",
       "                                                     max_depth=10,\n",
       "                                                     n_estimators=50)),\n",
       "                             ('LGBM',\n",
       "                              LGBMClassifier(learning_rate=0.01, max_depth=10,\n",
       "                                             metric='auc', n_estimators=200))],\n",
       "                 voting='soft')"
      ]
     },
     "execution_count": 248,
     "metadata": {},
     "output_type": "execute_result"
    }
   ],
   "source": [
    "clf1 = BaggingClassifier(base_estimator=RandomForestClassifier(criterion='entropy', max_depth=10, n_estimators=50))\n",
    "clf2 = RandomForestClassifier(criterion='entropy', max_depth=10, n_estimators=50)\n",
    "clf3 = LGBMClassifier(max_depth=10, learning_rate=0.01, n_estimators=200, metric='auc')\n",
    "\n",
    "classifiers = [('BC', clf1), ('RF', clf2), ('LGBM', clf3)]\n",
    "clf_voting = VotingClassifier(estimators=classifiers, voting='soft')\n",
    "clf_voting.fit(X_train, y_train)"
   ]
  },
  {
   "cell_type": "code",
   "execution_count": 249,
   "id": "2007109c",
   "metadata": {
    "scrolled": true
   },
   "outputs": [
    {
     "name": "stdout",
     "output_type": "stream",
     "text": [
      "Scores  Voting : 0.821 0.824 0.824 \n"
     ]
    },
    {
     "data": {
      "image/png": "[encoded data removed]",
      "text/plain": [
       "<Figure size 432x288 with 1 Axes>"
      ]
     },
     "metadata": {
      "needs_background": "light"
     },
     "output_type": "display_data"
    }
   ],
   "source": [
    "cross_val(clf_voting, 'Voting')\n",
    "plot_auc(clf_voting, 'Voting')"
   ]
  },
  {
   "cell_type": "markdown",
   "id": "4b61558d",
   "metadata": {},
   "source": [
    "# permutation importance"
   ]
  },
  {
   "cell_type": "code",
   "execution_count": 158,
   "id": "0c44bb7e",
   "metadata": {},
   "outputs": [
    {
     "data": {
      "text/html": [
       "\n",
       "    <style>\n",
       "    table.eli5-weights tr:hover {\n",
       "        filter: brightness(85%);\n",
       "    }\n",
       "</style>\n",
       "\n",
       "\n",
       "\n",
       "    \n",
       "\n",
       "    \n",
       "\n",
       "    \n",
       "\n",
       "    \n",
       "\n",
       "    \n",
       "\n",
       "    \n",
       "\n",
       "\n",
       "    \n",
       "\n",
       "    \n",
       "\n",
       "    \n",
       "\n",
       "    \n",
       "\n",
       "    \n",
       "\n",
       "    \n",
       "\n",
       "\n",
       "    \n",
       "\n",
       "    \n",
       "\n",
       "    \n",
       "\n",
       "    \n",
       "\n",
       "    \n",
       "        <table class=\"eli5-weights eli5-feature-importances\" style=\"border-collapse: collapse; border: none; margin-top: 0em; table-layout: auto;\">\n",
       "    <thead>\n",
       "    <tr style=\"border: none;\">\n",
       "        <th style=\"padding: 0 1em 0 0.5em; text-align: right; border: none;\">Weight</th>\n",
       "        <th style=\"padding: 0 0.5em 0 0.5em; text-align: left; border: none;\">Feature</th>\n",
       "    </tr>\n",
       "    </thead>\n",
       "    <tbody>\n",
       "    \n",
       "        <tr style=\"background-color: hsl(120, 100.00%, 80.00%); border: none;\">\n",
       "            <td style=\"padding: 0 1em 0 0.5em; text-align: right; border: none;\">\n",
       "                0.0452\n",
       "                \n",
       "                    &plusmn; 0.0005\n",
       "                \n",
       "            </td>\n",
       "            <td style=\"padding: 0 0.5em 0 0.5em; text-align: left; border: none;\">\n",
       "                d1_max_pca\n",
       "            </td>\n",
       "        </tr>\n",
       "    \n",
       "        <tr style=\"background-color: hsl(120, 100.00%, 93.57%); border: none;\">\n",
       "            <td style=\"padding: 0 1em 0 0.5em; text-align: right; border: none;\">\n",
       "                0.0089\n",
       "                \n",
       "                    &plusmn; 0.0020\n",
       "                \n",
       "            </td>\n",
       "            <td style=\"padding: 0 0.5em 0 0.5em; text-align: left; border: none;\">\n",
       "                apache_2_diagnosis\n",
       "            </td>\n",
       "        </tr>\n",
       "    \n",
       "        <tr style=\"background-color: hsl(120, 100.00%, 94.87%); border: none;\">\n",
       "            <td style=\"padding: 0 1em 0 0.5em; text-align: right; border: none;\">\n",
       "                0.0065\n",
       "                \n",
       "                    &plusmn; 0.0012\n",
       "                \n",
       "            </td>\n",
       "            <td style=\"padding: 0 0.5em 0 0.5em; text-align: left; border: none;\">\n",
       "                bmi\n",
       "            </td>\n",
       "        </tr>\n",
       "    \n",
       "        <tr style=\"background-color: hsl(120, 100.00%, 97.35%); border: none;\">\n",
       "            <td style=\"padding: 0 1em 0 0.5em; text-align: right; border: none;\">\n",
       "                0.0025\n",
       "                \n",
       "                    &plusmn; 0.0020\n",
       "                \n",
       "            </td>\n",
       "            <td style=\"padding: 0 0.5em 0 0.5em; text-align: left; border: none;\">\n",
       "                age\n",
       "            </td>\n",
       "        </tr>\n",
       "    \n",
       "        <tr style=\"background-color: hsl(120, 100.00%, 97.77%); border: none;\">\n",
       "            <td style=\"padding: 0 1em 0 0.5em; text-align: right; border: none;\">\n",
       "                0.0020\n",
       "                \n",
       "                    &plusmn; 0.0012\n",
       "                \n",
       "            </td>\n",
       "            <td style=\"padding: 0 0.5em 0 0.5em; text-align: left; border: none;\">\n",
       "                d1_glucose_min\n",
       "            </td>\n",
       "        </tr>\n",
       "    \n",
       "        <tr style=\"background-color: hsl(120, 100.00%, 97.99%); border: none;\">\n",
       "            <td style=\"padding: 0 1em 0 0.5em; text-align: right; border: none;\">\n",
       "                0.0017\n",
       "                \n",
       "                    &plusmn; 0.0008\n",
       "                \n",
       "            </td>\n",
       "            <td style=\"padding: 0 0.5em 0 0.5em; text-align: left; border: none;\">\n",
       "                d1_bun_min\n",
       "            </td>\n",
       "        </tr>\n",
       "    \n",
       "        <tr style=\"background-color: hsl(120, 100.00%, 99.12%); border: none;\">\n",
       "            <td style=\"padding: 0 1em 0 0.5em; text-align: right; border: none;\">\n",
       "                0.0005\n",
       "                \n",
       "                    &plusmn; 0.0005\n",
       "                \n",
       "            </td>\n",
       "            <td style=\"padding: 0 0.5em 0 0.5em; text-align: left; border: none;\">\n",
       "                gender_M\n",
       "            </td>\n",
       "        </tr>\n",
       "    \n",
       "        <tr style=\"background-color: hsl(120, 100.00%, 99.28%); border: none;\">\n",
       "            <td style=\"padding: 0 1em 0 0.5em; text-align: right; border: none;\">\n",
       "                0.0004\n",
       "                \n",
       "                    &plusmn; 0.0010\n",
       "                \n",
       "            </td>\n",
       "            <td style=\"padding: 0 0.5em 0 0.5em; text-align: left; border: none;\">\n",
       "                icu_type\n",
       "            </td>\n",
       "        </tr>\n",
       "    \n",
       "        <tr style=\"background-color: hsl(120, 100.00%, 99.42%); border: none;\">\n",
       "            <td style=\"padding: 0 1em 0 0.5em; text-align: right; border: none;\">\n",
       "                0.0003\n",
       "                \n",
       "                    &plusmn; 0.0007\n",
       "                \n",
       "            </td>\n",
       "            <td style=\"padding: 0 0.5em 0 0.5em; text-align: left; border: none;\">\n",
       "                ethnicity\n",
       "            </td>\n",
       "        </tr>\n",
       "    \n",
       "        <tr style=\"background-color: hsl(120, 100.00%, 99.94%); border: none;\">\n",
       "            <td style=\"padding: 0 1em 0 0.5em; text-align: right; border: none;\">\n",
       "                0.0000\n",
       "                \n",
       "                    &plusmn; 0.0006\n",
       "                \n",
       "            </td>\n",
       "            <td style=\"padding: 0 0.5em 0 0.5em; text-align: left; border: none;\">\n",
       "                gender_F\n",
       "            </td>\n",
       "        </tr>\n",
       "    \n",
       "    \n",
       "    </tbody>\n",
       "</table>\n",
       "    \n",
       "\n",
       "    \n",
       "\n",
       "\n",
       "    \n",
       "\n",
       "    \n",
       "\n",
       "    \n",
       "\n",
       "    \n",
       "\n",
       "    \n",
       "\n",
       "    \n",
       "\n",
       "\n",
       "\n"
      ],
      "text/plain": [
       "<IPython.core.display.HTML object>"
      ]
     },
     "execution_count": 158,
     "metadata": {},
     "output_type": "execute_result"
    }
   ],
   "source": [
    "perm = PermutationImportance(clf, random_state=1).fit(X_test, y_test)\n",
    "eli5.show_weights(perm, feature_names = X_test.columns.tolist())"
   ]
  }
 ],
 "metadata": {
  "kernelspec": {
   "display_name": "Python 3",
   "language": "python",
   "name": "python3"
  },
  "language_info": {
   "codemirror_mode": {
    "name": "ipython",
    "version": 3
   },
   "file_extension": ".py",
   "mimetype": "text/x-python",
   "name": "python",
   "nbconvert_exporter": "python",
   "pygments_lexer": "ipython3",
   "version": "3.8.8"
  },
  "toc": {
   "base_numbering": 1,
   "nav_menu": {},
   "number_sections": true,
   "sideBar": true,
   "skip_h1_title": false,
   "title_cell": "Table of Contents",
   "title_sidebar": "Contents",
   "toc_cell": false,
   "toc_position": {
    "height": "calc(100% - 180px)",
    "left": "10px",
    "top": "150px",
    "width": "246px"
   },
   "toc_section_display": true,
   "toc_window_display": true
  }
 },
 "nbformat": 4,
 "nbformat_minor": 5
}
